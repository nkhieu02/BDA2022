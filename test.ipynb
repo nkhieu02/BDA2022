{
 "cells": [
  {
   "cell_type": "code",
   "execution_count": 53,
   "metadata": {},
   "outputs": [],
   "source": [
    "import numpy as np\n",
    "import pandas as pd\n",
    "from matplotlib import pyplot as plt\n",
    "import seaborn as sns\n",
    "import stan\n",
    "import nest_asyncio\n",
    "import arviz as az\n",
    "from matplotlib.backends.backend_pdf import PdfPages\n",
    "\n",
    "nest_asyncio.apply()\n",
    "plt.ion()\n",
    "\n",
    "DATA_DIR = \"./Data/Weekly_Counts_of_Deaths_by_State_and_Select_Causes__2014-2019.csv\"\n",
    "\n",
    "df = pd.read_csv(DATA_DIR) \n",
    "\n",
    "df = df.iloc[:, :17]  # Drop all the flag\n",
    "\n",
    "# Sep: Soc nhiem khuan\n",
    "# Malignant: Khoi u ac tinh\n",
    "# Diabete: Tieu duong\n",
    "# Alzheimer: Mat tri nho\n",
    "# Influenze: Cum - Viem phoi\n",
    "# Chronic: Nhiem trung duong ho hap duoi man tinh\n",
    "# Other: nhung benh duong ho hap khac\n",
    "# Nephristic: Viem than, than hu -> co qua nhieu protein trong nuoc tieu, benh than ma ko co viem nhiem\n",
    "# Symtoms: Ket qua bat thuong nhung chua dc define\n",
    "# Diseases of heart: tim co vn de\n",
    "# Cerebrovascular: Mach mau toi tim, tim len nao\n",
    "# Visualization\n",
    "sns.set_theme()\n",
    "\n",
    "\n",
    "# for x in df.columns[5:]:\n",
    "#     df[x] = df[x] / df[\"All  Cause\"]"
   ]
  },
  {
   "attachments": {},
   "cell_type": "markdown",
   "metadata": {},
   "source": [
    "Since the amount of data for this problem is quite high compared to the model selected. As a result, weakly informative prior\n",
    "has been chosen for each model."
   ]
  },
  {
   "cell_type": "code",
   "execution_count": 54,
   "metadata": {},
   "outputs": [
    {
     "name": "stdout",
     "output_type": "stream",
     "text": [
      "Building...\n"
     ]
    },
    {
     "name": "stderr",
     "output_type": "stream",
     "text": [
      "\n",
      "Building: found in cache, done.Sampling:   0%\n",
      "Sampling:   5% (400/8000)\n",
      "Sampling:  12% (1000/8000)\n",
      "Sampling:  21% (1700/8000)\n",
      "Sampling:  46% (3700/8000)\n",
      "Sampling:  66% (5300/8000)\n",
      "Sampling:  84% (6700/8000)\n",
      "Sampling: 100% (8000/8000)\n",
      "Sampling: 100% (8000/8000), done.\n",
      "Messages received during sampling:\n",
      "  Gradient evaluation took 0.000102 seconds\n",
      "  1000 transitions using 10 leapfrog steps per transition would take 1.02 seconds.\n",
      "  Adjust your expectations accordingly!\n",
      "  Gradient evaluation took 9.6e-05 seconds\n",
      "  1000 transitions using 10 leapfrog steps per transition would take 0.96 seconds.\n",
      "  Adjust your expectations accordingly!\n",
      "  Gradient evaluation took 0.000102 seconds\n",
      "  1000 transitions using 10 leapfrog steps per transition would take 1.02 seconds.\n",
      "  Adjust your expectations accordingly!\n",
      "  Gradient evaluation took 0.000106 seconds\n",
      "  1000 transitions using 10 leapfrog steps per transition would take 1.06 seconds.\n",
      "  Adjust your expectations accordingly!\n"
     ]
    },
    {
     "name": "stdout",
     "output_type": "stream",
     "text": [
      "Building...\n"
     ]
    },
    {
     "name": "stderr",
     "output_type": "stream",
     "text": [
      "\n",
      "Building: found in cache, done.Sampling:   0%\n",
      "Sampling:   0% (1/8000)\n",
      "Sampling:   0% (2/8000)\n",
      "Sampling:   0% (3/8000)\n",
      "Sampling:   0% (4/8000)\n",
      "Sampling:   1% (103/8000)\n",
      "Sampling:   3% (202/8000)\n",
      "Sampling:   4% (301/8000)\n",
      "Sampling:   5% (400/8000)\n",
      "Sampling:   6% (500/8000)\n",
      "Sampling:   8% (600/8000)\n",
      "Sampling:   9% (700/8000)\n",
      "Sampling:  11% (900/8000)\n",
      "Sampling:  14% (1100/8000)\n",
      "Sampling:  16% (1300/8000)\n",
      "Sampling:  19% (1500/8000)\n",
      "Sampling:  20% (1600/8000)\n",
      "Sampling:  21% (1700/8000)\n",
      "Sampling:  24% (1900/8000)\n",
      "Sampling:  25% (2000/8000)\n",
      "Sampling:  28% (2200/8000)\n",
      "Sampling:  31% (2500/8000)\n",
      "Sampling:  34% (2700/8000)\n",
      "Sampling:  38% (3000/8000)\n",
      "Sampling:  40% (3200/8000)\n",
      "Sampling:  55% (4400/8000)\n",
      "Sampling:  70% (5600/8000)\n",
      "Sampling:  85% (6800/8000)\n",
      "Sampling: 100% (8000/8000)\n",
      "Sampling: 100% (8000/8000), done.\n",
      "Messages received during sampling:\n",
      "  Gradient evaluation took 0.000146 seconds\n",
      "  1000 transitions using 10 leapfrog steps per transition would take 1.46 seconds.\n",
      "  Adjust your expectations accordingly!\n",
      "  Gradient evaluation took 0.000101 seconds\n",
      "  1000 transitions using 10 leapfrog steps per transition would take 1.01 seconds.\n",
      "  Adjust your expectations accordingly!\n",
      "  Gradient evaluation took 0.000121 seconds\n",
      "  1000 transitions using 10 leapfrog steps per transition would take 1.21 seconds.\n",
      "  Adjust your expectations accordingly!\n",
      "  Gradient evaluation took 0.000196 seconds\n",
      "  1000 transitions using 10 leapfrog steps per transition would take 1.96 seconds.\n",
      "  Adjust your expectations accordingly!\n"
     ]
    }
   ],
   "source": [
    "## Natural Cause\n",
    "\n",
    "# Read in each model\n",
    "\n",
    "with open(\"natural_cause.stan\", \"r\") as my_file:\n",
    "    all_models = my_file.read()\n",
    "\n",
    "pool_model,separate_model=   all_models.split(\"//---\")\n",
    "\n",
    "# Setup data for each model.\n",
    "\n",
    "# Pool\n",
    "n_pool = df.shape[0]\n",
    "df_natural_cause = df[[\"All  Cause\", \"Natural Cause\"]]\n",
    "x_pool = df_natural_cause['All  Cause'].values\n",
    "y_pool = df_natural_cause['Natural Cause'].values\n",
    "data_pool = {'n': n_pool, 'x': x_pool, 'y': y_pool}\n",
    "\n",
    "# Separate, Hierarchical\n",
    "x_sep_df = pd.DataFrame(columns= df[\"Jurisdiction of Occurrence\"].unique())\n",
    "y_sep_df = pd.DataFrame(columns= df[\"Jurisdiction of Occurrence\"].unique())\n",
    "for (state, group) in df.groupby(by=\"Jurisdiction of Occurrence\")[\"All  Cause\"]:\n",
    "    x_sep_df[state] = group.values\n",
    "for (state, group) in df.groupby(by=\"Jurisdiction of Occurrence\")[\"Natural Cause\"]:\n",
    "    y_sep_df[state] = group.values\n",
    "x_sep = x_sep_df.T.values\n",
    "y_sep = y_sep_df.T.values\n",
    "groups_nof = df[\"Jurisdiction of Occurrence\"].unique().shape[0]\n",
    "n_sep = 313\n",
    "data_sep = {'g': groups_nof, 'n': n_sep, 'x': x_sep, 'y': y_sep}\n",
    "\n",
    "# Pool model:\n",
    "\n",
    "posterior_pool = stan.build(pool_model, data = data_pool);\n",
    "fit_pool = posterior_pool.sample(num_chains= 4, num_samples = 1000);\n",
    "df_pool = fit_pool.to_frame()\n",
    "\n",
    "# Separate model:\n",
    "\n",
    "posterior_sep = stan.build(separate_model, data = data_sep);\n",
    "fit_sep = posterior_sep.sample(num_chains= 4, num_samples = 1000);\n",
    "df_sep = fit_sep.to_frame()\n"
   ]
  },
  {
   "cell_type": "code",
   "execution_count": 55,
   "metadata": {},
   "outputs": [
    {
     "name": "stdout",
     "output_type": "stream",
     "text": [
      "----\n",
      "\n",
      "\n",
      "parameters          lp__  accept_stat__  stepsize__  treedepth__  \\\n",
      "draws                                                              \n",
      "0          -9.633226e+06       0.916376    0.179802          1.0   \n",
      "1          -9.633227e+06       0.453595    0.255256          2.0   \n",
      "2          -9.633227e+06       0.813668    0.188134          1.0   \n",
      "3          -9.633226e+06       1.000000    0.170559          1.0   \n",
      "4          -9.633226e+06       0.998342    0.179802          2.0   \n",
      "\n",
      "parameters  n_leapfrog__  divergent__      energy__     theta  ypred.1  \\\n",
      "draws                                                                    \n",
      "0                    3.0          0.0  9.633229e+06  0.915824   3065.0   \n",
      "1                    3.0          0.0  9.633229e+06  0.915780   3105.0   \n",
      "2                    3.0          0.0  9.633228e+06  0.915897   3079.0   \n",
      "3                    1.0          0.0  9.633226e+06  0.915839   3084.0   \n",
      "4                    3.0          0.0  9.633226e+06  0.915829   3095.0   \n",
      "\n",
      "parameters  ypred.2  ...  ypred.16893  ypred.16894  ypred.16895  ypred.16896  \\\n",
      "draws                ...                                                       \n",
      "0            3186.0  ...        468.0        480.0        533.0        486.0   \n",
      "1            3207.0  ...        481.0        485.0        549.0        493.0   \n",
      "2            3235.0  ...        482.0        489.0        551.0        494.0   \n",
      "3            3216.0  ...        477.0        481.0        541.0        493.0   \n",
      "4            3203.0  ...        487.0        486.0        537.0        497.0   \n",
      "\n",
      "parameters  ypred.16897  ypred.16898  ypred.16899  ypred.16900  ypred.16901  \\\n",
      "draws                                                                         \n",
      "0                 530.0        582.0        507.0        490.0        535.0   \n",
      "1                 527.0        563.0        509.0        461.0        530.0   \n",
      "2                 526.0        567.0        510.0        473.0        525.0   \n",
      "3                 520.0        561.0        508.0        495.0        530.0   \n",
      "4                 519.0        563.0        512.0        481.0        532.0   \n",
      "\n",
      "parameters  ypred.16902  \n",
      "draws                    \n",
      "0                 512.0  \n",
      "1                 505.0  \n",
      "2                 500.0  \n",
      "3                 504.0  \n",
      "4                 507.0  \n",
      "\n",
      "[5 rows x 16910 columns]\n",
      "----\n",
      "\n",
      "\n",
      "parameters          lp__  accept_stat__  stepsize__  treedepth__  \\\n",
      "draws                                                              \n",
      "0          -9.620439e+06       0.997795    0.276677          4.0   \n",
      "1          -9.620441e+06       0.989687    0.249063          4.0   \n",
      "2          -9.620439e+06       0.918702    0.289928          4.0   \n",
      "3          -9.620451e+06       0.945439    0.247609          4.0   \n",
      "4          -9.620437e+06       0.981673    0.276677          4.0   \n",
      "\n",
      "parameters  n_leapfrog__  divergent__      energy__   theta.1   theta.2  \\\n",
      "draws                                                                     \n",
      "0                   15.0          0.0  9.620471e+06  0.913693  0.915761   \n",
      "1                   15.0          0.0  9.620470e+06  0.913443  0.915787   \n",
      "2                   15.0          0.0  9.620465e+06  0.913544  0.915762   \n",
      "3                   15.0          0.0  9.620478e+06  0.913357  0.915779   \n",
      "4                   15.0          0.0  9.620465e+06  0.913667  0.915766   \n",
      "\n",
      "parameters   theta.3  ...  ypred.45.313  ypred.46.313  ypred.47.313  \\\n",
      "draws                 ...                                             \n",
      "0           0.922735  ...        1484.0        3960.0         340.0   \n",
      "1           0.922176  ...        1486.0        3952.0         358.0   \n",
      "2           0.921845  ...        1467.0        3939.0         348.0   \n",
      "3           0.921598  ...        1469.0        3961.0         342.0   \n",
      "4           0.922041  ...        1469.0        3930.0         352.0   \n",
      "\n",
      "parameters  ypred.48.313  ypred.49.313  ypred.50.313  ypred.51.313  \\\n",
      "draws                                                                \n",
      "0                 1294.0         102.0        1020.0         519.0   \n",
      "1                 1298.0         100.0        1006.0         522.0   \n",
      "2                 1303.0          98.0        1025.0         529.0   \n",
      "3                 1318.0         101.0        1006.0         516.0   \n",
      "4                 1296.0         103.0        1017.0         507.0   \n",
      "\n",
      "parameters  ypred.52.313  ypred.53.313  ypred.54.313  \n",
      "draws                                                 \n",
      "0                  375.0         985.0          76.0  \n",
      "1                  375.0        1008.0          78.0  \n",
      "2                  377.0         975.0          79.0  \n",
      "3                  376.0         988.0          75.0  \n",
      "4                  365.0         978.0          78.0  \n",
      "\n",
      "[5 rows x 16963 columns]\n"
     ]
    }
   ],
   "source": [
    "print('----')\n",
    "print()\n",
    "print()\n",
    "print(df_pool.head(5))\n",
    "print('----')\n",
    "print()\n",
    "print()\n",
    "print(df_sep.head(5))\n"
   ]
  },
  {
   "attachments": {},
   "cell_type": "markdown",
   "metadata": {},
   "source": [
    "## Validating a Fit in Stan\n",
    "\n",
    "Convergence checking"
   ]
  },
  {
   "cell_type": "code",
   "execution_count": 6,
   "metadata": {},
   "outputs": [
    {
     "name": "stdout",
     "output_type": "stream",
     "text": [
      "                  mean      sd    hdi_3%   hdi_97%  mcse_mean  mcse_sd  \\\n",
      "theta            0.916   0.000     0.916     0.916      0.000    0.000   \n",
      "ypred[0]      3096.920  16.274  3066.000  3126.000      0.254    0.180   \n",
      "ypred[1]      3205.842  16.657  3173.000  3235.000      0.261    0.184   \n",
      "ypred[2]      3339.422  16.863  3305.000  3369.000      0.278    0.197   \n",
      "ypred[3]      3310.895  16.788  3278.000  3340.000      0.268    0.189   \n",
      "...                ...     ...       ...       ...        ...      ...   \n",
      "ypred[16897]   566.824   6.894   552.000   578.000      0.109    0.077   \n",
      "ypred[16898]   508.095   6.568   495.000   519.000      0.104    0.073   \n",
      "ypred[16899]   481.759   6.445   470.000   493.000      0.102    0.072   \n",
      "ypred[16900]   528.367   6.618   517.000   541.000      0.109    0.077   \n",
      "ypred[16901]   506.558   6.491   494.000   518.000      0.106    0.075   \n",
      "\n",
      "              ess_bulk  ess_tail  r_hat  \n",
      "theta           1535.0    1925.0    1.0  \n",
      "ypred[0]        4112.0    3966.0    1.0  \n",
      "ypred[1]        4084.0    3703.0    1.0  \n",
      "ypred[2]        3672.0    3952.0    1.0  \n",
      "ypred[3]        3936.0    4102.0    1.0  \n",
      "...                ...       ...    ...  \n",
      "ypred[16897]    3980.0    3900.0    1.0  \n",
      "ypred[16898]    3995.0    3838.0    1.0  \n",
      "ypred[16899]    3995.0    3802.0    1.0  \n",
      "ypred[16900]    3675.0    3594.0    1.0  \n",
      "ypred[16901]    3771.0    3935.0    1.0  \n",
      "\n",
      "[16903 rows x 9 columns]\n",
      "[1.16830197 1.10596948 1.21240928 1.17864916]\n"
     ]
    }
   ],
   "source": [
    "# Checking split R and ess.\n",
    "\n",
    "print(az.summary(fit_pool))\n",
    "\n",
    "# BFMI quantifies how well momentum resampling matches the marginal energy distribution. \n",
    "# For more information on BFMI, see https://arxiv.org/pdf/1604.00695v1.pdf. \n",
    "# The current advice is that values smaller than 0.3 indicate poor sampling. \n",
    "# However, this threshold is provisional and may change. \n",
    "# See pystan_workflow for more information.\n",
    "print(az.bfmi(fit_pool))  # Smaller than 0.3 indicate poor sampling\n"
   ]
  },
  {
   "attachments": {},
   "cell_type": "markdown",
   "metadata": {},
   "source": [
    "## Posterior predictive check\n",
    "\n",
    "- Visualization\n",
    "  - pdf, cdf\n",
    "  - marginal and CV prdictive checking \n",
    "  - Probability integral transform\n"
   ]
  },
  {
   "cell_type": "code",
   "execution_count": 56,
   "metadata": {},
   "outputs": [
    {
     "data": {
      "image/png": "[encoded data removed]",
      "text/plain": [
       "<Figure size 640x480 with 1 Axes>"
      ]
     },
     "metadata": {},
     "output_type": "display_data"
    }
   ],
   "source": [
    "# Pool model.\n",
    "\n",
    "ypred_df_pool = df_pool[['ypred.{}'.format(x) for x in range(1, n_pool+1)]].T.reset_index().drop(columns= \"parameters\")\n",
    "fig, ax = plt.subplots()\n",
    "fig.set_label(\"Pool model\")\n",
    "sns.kdeplot(df, x = \"Natural Cause\", ax = ax, color=\"red\")\n",
    "for i in range(1,10):\n",
    "    sns.kdeplot(ypred_df_pool[i], ax = ax, color = 'blue', alpha = 0.2)\n"
   ]
  },
  {
   "cell_type": "code",
   "execution_count": 57,
   "metadata": {},
   "outputs": [],
   "source": [
    "# Separate model\n",
    "\n",
    "pp = PdfPages('sep_predictive_check.pdf')\n",
    "states = x_sep_df.columns\n",
    "ypred_df_sep = df_sep[['ypred.{}.{}'.format(x,y) for x in range(1,groups_nof+1) for y in range(1,n_sep + 1)]].T\n",
    "\n",
    "for j in range(0,54):\n",
    "    fig, ax = plt.subplots()\n",
    "    sns.kdeplot(df[df['Jurisdiction of Occurrence'] == states[j]], x = \"Natural Cause\", ax = ax, color=\"red\")\n",
    "    mask = ['ypred.{}.{}'.format(j+1,x) for x in range(1, n_sep + 1) ]\n",
    "    for i in range(1,10):\n",
    "        sns.kdeplot(ypred_df_sep.loc[mask, i], ax = ax, color = 'blue', alpha = 0.2)\n",
    "    pp.savefig(fig)\n",
    "    plt.close(fig)\n",
    "pp.close()"
   ]
  },
  {
   "attachments": {},
   "cell_type": "markdown",
   "metadata": {},
   "source": [
    "## Predictive assessment (optional)\n",
    "\n",
    "- Error\n",
    "- Usefulness"
   ]
  },
  {
   "attachments": {},
   "cell_type": "markdown",
   "metadata": {},
   "source": [
    "## Sensitive anlysis\n",
    "- Pool model: Since we expect that the natural cause should be higher than unnatural one. We could try 2 sensitive analysis prior for theta.\n",
    "\n",
    "  - False informative: Beta(2,11)\n",
    "  - Inofrmative: Beta(8,4)\\\n",
    "\n",
    "  \n",
    "\n",
    "- Separate model"
   ]
  },
  {
   "cell_type": "code",
   "execution_count": 14,
   "metadata": {},
   "outputs": [
    {
     "name": "stdout",
     "output_type": "stream",
     "text": [
      "Building...\n"
     ]
    },
    {
     "name": "stderr",
     "output_type": "stream",
     "text": [
      "\n",
      "Building: found in cache, done.Messages from stanc:\n",
      "Warning in '/tmp/httpstan_0495vv9v/model_6cbk2ocl.stan', line 11, column 19: Argument\n",
      "    11 suggests there may be parameters that are not unit scale; consider\n",
      "    rescaling with a multiplier (see manual section 22.12).\n",
      "Sampling:   0%\n",
      "Sampling:   5% (400/8000)\n",
      "Sampling:  12% (1000/8000)\n",
      "Sampling:  20% (1600/8000)\n",
      "Sampling:  45% (3600/8000)\n",
      "Sampling:  65% (5200/8000)\n",
      "Sampling:  82% (6600/8000)\n",
      "Sampling: 100% (8000/8000)\n",
      "Sampling: 100% (8000/8000), done.\n",
      "Messages received during sampling:\n",
      "  Gradient evaluation took 8.9e-05 seconds\n",
      "  1000 transitions using 10 leapfrog steps per transition would take 0.89 seconds.\n",
      "  Adjust your expectations accordingly!\n",
      "  Gradient evaluation took 0.000107 seconds\n",
      "  1000 transitions using 10 leapfrog steps per transition would take 1.07 seconds.\n",
      "  Adjust your expectations accordingly!\n",
      "  Gradient evaluation took 0.00018 seconds\n",
      "  1000 transitions using 10 leapfrog steps per transition would take 1.8 seconds.\n",
      "  Adjust your expectations accordingly!\n",
      "  Gradient evaluation took 0.000177 seconds\n",
      "  1000 transitions using 10 leapfrog steps per transition would take 1.77 seconds.\n",
      "  Adjust your expectations accordingly!\n"
     ]
    },
    {
     "name": "stdout",
     "output_type": "stream",
     "text": [
      "Building...\n"
     ]
    },
    {
     "name": "stderr",
     "output_type": "stream",
     "text": [
      "\n",
      "Building: found in cache, done.Sampling:   0%\n",
      "Sampling:   6% (500/8000)\n",
      "Sampling:  16% (1300/8000)\n",
      "Sampling:  41% (3300/8000)\n",
      "Sampling:  66% (5300/8000)\n",
      "Sampling:  85% (6800/8000)\n",
      "Sampling: 100% (8000/8000)\n",
      "Sampling: 100% (8000/8000), done.\n",
      "Messages received during sampling:\n",
      "  Gradient evaluation took 9.3e-05 seconds\n",
      "  1000 transitions using 10 leapfrog steps per transition would take 0.93 seconds.\n",
      "  Adjust your expectations accordingly!\n",
      "  Gradient evaluation took 8.5e-05 seconds\n",
      "  1000 transitions using 10 leapfrog steps per transition would take 0.85 seconds.\n",
      "  Adjust your expectations accordingly!\n",
      "  Gradient evaluation took 0.000101 seconds\n",
      "  1000 transitions using 10 leapfrog steps per transition would take 1.01 seconds.\n",
      "  Adjust your expectations accordingly!\n",
      "  Gradient evaluation took 0.000106 seconds\n",
      "  1000 transitions using 10 leapfrog steps per transition would take 1.06 seconds.\n",
      "  Adjust your expectations accordingly!\n"
     ]
    },
    {
     "data": {
      "text/plain": [
       "<AxesSubplot: xlabel='theta', ylabel='Density'>"
      ]
     },
     "execution_count": 14,
     "metadata": {},
     "output_type": "execute_result"
    },
    {
     "data": {
      "image/png": "[encoded data removed]",
      "text/plain": [
       "<Figure size 640x480 with 1 Axes>"
      ]
     },
     "metadata": {},
     "output_type": "display_data"
    }
   ],
   "source": [
    "## Pool model\n",
    "\n",
    "# Stan code:\n",
    "\n",
    "f_inf_pool = \"\"\"\n",
    "data {\n",
    "    int<lower=0> n;\n",
    "    array[n] int x;\n",
    "    array[n] int y;\n",
    "}\n",
    "parameters {\n",
    "    real<lower=0, upper=1> theta;\n",
    "}\n",
    "model {\n",
    "    theta ~ beta(2,11);\n",
    "    y ~ binomial(x, theta);\n",
    "}\n",
    "\"\"\"\n",
    "inf_pool = \"\"\"\n",
    "data {\n",
    "    int<lower=0> n;\n",
    "    array[n] int x;\n",
    "    array[n] int y;\n",
    "}\n",
    "parameters {\n",
    "    real<lower=0, upper=1> theta;\n",
    "}\n",
    "model {\n",
    "    theta ~ beta(8,4);\n",
    "    y ~ binomial(x, theta);\n",
    "}\n",
    "\"\"\"\n",
    "\n",
    "post_f_inf_pool = stan.build(f_inf_pool, data = data_pool);\n",
    "fit_f_inf_pool = post_f_inf_pool.sample(num_chains= 4, num_samples = 1000);\n",
    "df_f_inf_pool = fit_f_inf_pool.to_frame()\n",
    "\n",
    "post_inf_pool = stan.build(inf_pool, data = data_pool);\n",
    "fit_inf_pool = post_inf_pool.sample(num_chains= 4, num_samples = 1000);\n",
    "df_inf_pool = fit_inf_pool.to_frame()\n",
    "\n",
    "# Plot theta from two models:\n",
    "\n",
    "fig, axes = plt.subplots()\n",
    "sns.kdeplot(df_f_inf_pool['theta'], ax = axes, color = 'red')\n",
    "sns.kdeplot(df_inf_pool['theta'], ax = axes, color = 'blue')"
   ]
  },
  {
   "cell_type": "code",
   "execution_count": null,
   "metadata": {},
   "outputs": [],
   "source": [
    "# Separate model\n",
    "\n",
    "# Stan code:\n",
    "\n",
    "f_inf_pool = \"\"\"\n",
    "data {\n",
    "    int<lower=0> n;\n",
    "    array[n] int x;\n",
    "    array[n] int y;\n",
    "}\n",
    "parameters {\n",
    "    real<lower=0, upper=1> theta;\n",
    "}\n",
    "model {\n",
    "    theta ~ beta(2,11);\n",
    "    y ~ binomial(x, theta);\n",
    "}\n",
    "\"\"\"\n",
    "inf_pool = \"\"\"\n",
    "data {\n",
    "    int<lower=0> n;\n",
    "    array[n] int x;\n",
    "    array[n] int y;\n",
    "}\n",
    "parameters {\n",
    "    real<lower=0, upper=1> theta;\n",
    "}\n",
    "model {\n",
    "    theta ~ beta(8,4);\n",
    "    y ~ binomial(x, theta);\n",
    "}\n",
    "\"\"\"\n",
    "\n",
    "post_f_inf_pool = stan.build(f_inf_pool, data = data_pool);\n",
    "fit_f_inf_pool = post_f_inf_pool.sample(num_chains= 4, num_samples = 1000);\n",
    "df_f_inf_pool = fit_f_inf_pool.to_frame()\n",
    "\n",
    "post_inf_pool = stan.build(inf_pool, data = data_pool);\n",
    "fit_inf_pool = post_inf_pool.sample(num_chains= 4, num_samples = 1000);\n",
    "df_inf_pool = fit_inf_pool.to_frame()\n",
    "\n",
    "# Plot theta from two models:\n",
    "\n",
    "fig, axes = plt.subplots()\n",
    "sns.kdeplot(df_f_inf_pool['theta'], ax = axes, color = 'red')\n",
    "sns.kdeplot(df_inf_pool['theta'], ax = axes, color = 'blue')"
   ]
  },
  {
   "attachments": {},
   "cell_type": "markdown",
   "metadata": {},
   "source": [
    "## Model comparision and selection\n",
    "- This could be done by loo or k-fold cross validation"
   ]
  }
 ],
 "metadata": {
  "kernelspec": {
   "display_name": "Python 3",
   "language": "python",
   "name": "python3"
  },
  "language_info": {
   "codemirror_mode": {
    "name": "ipython",
    "version": 3
   },
   "file_extension": ".py",
   "mimetype": "text/x-python",
   "name": "python",
   "nbconvert_exporter": "python",
   "pygments_lexer": "ipython3",
   "version": "3.10.8"
  },
  "orig_nbformat": 4,
  "vscode": {
   "interpreter": {
    "hash": "bd36c406a709412aca2e1100f7636ea5951e3c1e47bfb90e9eb9f8031d03ddcf"
   }
  }
 },
 "nbformat": 4,
 "nbformat_minor": 2
}
